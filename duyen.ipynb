{
 "cells": [
  {
   "cell_type": "markdown",
   "metadata": {},
   "source": [
    "# **A/ Crawl Data**\n",
    "Crark data from tiki website"
   ]
  },
  {
   "cell_type": "code",
   "execution_count": 1,
   "metadata": {},
   "outputs": [],
   "source": [
    "# import pandas as pd\n",
    "# import requests\n",
    "# import time\n",
    "# import random\n",
    "# from tqdm import tqdm\n",
    "\n",
    "# headers = {\n",
    "#     'User-Agent': 'Mozilla/5.0 (Windows NT 10.0; Win64; x64) AppleWebKit/537.36 (KHTML, like Gecko) Chrome/125.0.0.0 Safari/537.36',\n",
    "#     'Accept': 'application/json, text/plain, */*',\n",
    "#     'Accept-Language': 'en,vi;q=0.9,vi-VN;q=0.8',\n",
    "#     'Referer': 'https://tiki.vn/nha-sach-tiki/c8322',\n",
    "#     'x-guest-token': '2eg3LBsfkKz7pVmEbIO0RGDJvyuAjq8P',\n",
    "#     'Connection': 'keep-alive',\n",
    "#     'TE': 'Trailers',\n",
    "#     'cookies' : '_trackity=egitd3a3fab-1c64-dc2a-90a8-1b295cf588de; TOKENS={%22access_token%22:%222eg3LBsfkKz7pVmEbIO0RGDJvyuAjq8P%22%2C%22expires_in%22:157680000%2C%22expires_at%22:1872394520776%2C%22guest_token%22:%222eg3LBsfkKz7pVmEbIO0RGDJvyuAjq8P%22}; delivery_zone=Vk4wNjcwMDcwMjY=; tiki_client_id=; TIKI_RECOMMENDATION=3c1cbf2a9169320a596dcef977415718; TKSESSID=f74f5d35109ffb184e445005d5f66241'\n",
    "# }\n",
    "# params = (\n",
    "#     ('platform', 'web'),\n",
    "#     ('spid','74021318'),\n",
    "#     ('version', '3')\n",
    "# )\n",
    "    \n",
    "# def parser_product(json):\n",
    "#     d = dict()\n",
    "#     d['id'] =json.get('id')\n",
    "#     d['name'] =json.get('name')\n",
    "#     d['authors'] =json.get(\"authors\", [{}])[0].get(\"name\")\n",
    "#     d['original_price'] =json.get('original_price')\n",
    "#     d['price'] =json.get('price')\n",
    "#     d['categories'] = json.get(\"categories\", {}).get(\"name\")\n",
    "#     d['all_time_quantity_sold'] =json.get('all_time_quantity_sold')\n",
    "#     d['rating_average'] =json.get('rating_average')\n",
    "#     d['review_count'] =json.get('review_count')\n",
    "#     specifications = json.get(\"specifications\", [])\n",
    "#     general_info = next((item for item in specifications if item.get(\"name\") == \"Thông tin chung\"), {})\n",
    "#     attributes = general_info.get(\"attributes\", [])\n",
    "#     d['pages'] = next((attr.get(\"value\") for attr in attributes if attr.get(\"code\") == \"number_of_page\"), None)\n",
    "#     d['manuafacture'] = next((attr.get(\"value\") for attr in attributes if attr.get(\"code\") == \"manufacturer\"), None)\n",
    "#     return d\n",
    "\n",
    "# df_id = pd.read_csv('productId_book.csv')\n",
    "# p_ids = df_id.id.to_list()\n",
    "# print(p_ids)\n",
    "# result =[]\n",
    "# for pid in tqdm(p_ids, total=len(p_ids)):\n",
    "#     response = requests.get('https://tiki.vn/api/v2/products/{}'.format(pid), headers=headers, params=params)\n",
    "#     if response.status_code == 200:\n",
    "#         try:\n",
    "#             # response.encoding = 'utf-8'\n",
    "#             print('Crawl data {} success !!!'.format(pid))\n",
    "#             result.append(parser_product(response.json()))\n",
    "#         except requests.exceptions.JSONDecodeError:\n",
    "#             print(\"Lỗi: Phản hồi không phải là JSON hợp lệ.\")\n",
    "#             print(\"Nội dung phản hồi:\", response.text) \n",
    "#     else:\n",
    "#         print(f\"Lỗi HTTP {response.status_code}: {response.reason}\")\n",
    "\n",
    "# df_product = pd.DataFrame(result)\n",
    "# df_product.to_csv('productDetailData.csv', index = False)"
   ]
  },
  {
   "cell_type": "markdown",
   "metadata": {},
   "source": [
    "# **B/ Build the Models**"
   ]
  },
  {
   "cell_type": "markdown",
   "metadata": {
    "notebookRunGroups": {
     "groupValue": "1"
    }
   },
   "source": [
    "# **1. Import Libraries and Frameworks**"
   ]
  },
  {
   "cell_type": "code",
   "execution_count": 2,
   "metadata": {},
   "outputs": [
    {
     "data": {
      "image/png": "[encoded data removed]",
      "text/html": [
       "<div style=\"vertical-align: middle;\"><strong>cubehelix</strong> </div><div class=\"cmap\"><img alt=\"cubehelix colormap\" title=\"cubehelix\" style=\"border: 1px solid #555;\" src=\"data:image/png;base64,iVBORw0KGgoAAAANSUhEUgAAAgAAAABACAYAAABsv8+/AAAAGHRFWHRUaXRsZQBjdWJlaGVsaXggY29sb3JtYXDGzLN6AAAAHnRFWHREZXNjcmlwdGlvbgBjdWJlaGVsaXggY29sb3JtYXCEV1XxAAAAMHRFWHRBdXRob3IATWF0cGxvdGxpYiB2My43LjEsIGh0dHBzOi8vbWF0cGxvdGxpYi5vcmcqr/hNAAAAMnRFWHRTb2Z0d2FyZQBNYXRwbG90bGliIHYzLjcuMSwgaHR0cHM6Ly9tYXRwbG90bGliLm9yZwQJZ2oAAAJbSURBVHic7dZBbuMwEATAIZ3/P3m1h7VkcETFe++qCzFNRoEMmO5RVUdV1ahRVVVzzNrNs975GO+1521957Pnba12/nH/nOd+/3NurPncn6vZz/0+H9c82nPHut/OffJ62O957fNrruXcOR+3/WN5nZ5/nncsr3XOT/m4nrufr//7Xj8f07Fd5/yzzn3/+liP39d6yv95tfx1vtaX+dX/vufX/jmP/f4tH9v855af69znR8/nw/n1+/rZfy3PmS1/muf5dw/5HK91but4ODfqZ8nPc+M2/+z3x/qc6vl7PfN6n7vls83XOrf5Mff7t/z9hTiu/Z7v59u5a3+0vN074yFvc7/f+v3T77Gj3Ve3/Mt99b/5515ZXufr/vUz0O/Bdp+M0c+vz3k6d/s5qId8jDWvff752M7f19GeO9a19vN43J/tOef3FQCIowAAQCAFAAACKQAAEEgBAIBACgAABFIAACCQAgAAgRQAAAikAABAIAUAAAIpAAAQSAEAgEAKAAAEUgAAIJACAACBFAAACKQAAEAgBQAAAikAABBIAQCAQAoAAARSAAAgkAIAAIEUAAAIpAAAQCAFAAACKQAAEEgBAIBACgAABFIAACCQAgAAgRQAAAikAABAIAUAAAIpAAAQSAEAgEAKAAAEUgAAIJACAACBFAAACKQAAEAgBQAAAikAABBIAQCAQAoAAARSAAAgkAIAAIEUAAAIpAAAQCAFAAACKQAAEEgBAIBACgAABFIAACCQAgAAgRQAAAikAABAIAUAAAIpAAAQSAEAgEAKAAAEUgAAINBfhNNDfJBGo8QAAAAASUVORK5CYII=\"></div><div style=\"vertical-align: middle; max-width: 514px; display: flex; justify-content: space-between;\"><div style=\"float: left;\"><div title=\"#000000ff\" style=\"display: inline-block; width: 1em; height: 1em; margin: 0; vertical-align: middle; border: 1px solid #555; background-color: #000000ff;\"></div> under</div><div style=\"margin: 0 auto; display: inline-block;\">bad <div title=\"#00000000\" style=\"display: inline-block; width: 1em; height: 1em; margin: 0; vertical-align: middle; border: 1px solid #555; background-color: #00000000;\"></div></div><div style=\"float: right;\">over <div title=\"#ffffffff\" style=\"display: inline-block; width: 1em; height: 1em; margin: 0; vertical-align: middle; border: 1px solid #555; background-color: #ffffffff;\"></div></div>"
      ],
      "text/plain": [
       "<matplotlib.colors.LinearSegmentedColormap at 0x1c9ffa3c790>"
      ]
     },
     "execution_count": 2,
     "metadata": {},
     "output_type": "execute_result"
    }
   ],
   "source": [
    "import pandas as pd\n",
    "import numpy as np\n",
    "import seaborn as sns\n",
    "import matplotlib.pyplot as plt\n",
    "\n",
    "\n",
    "from sklearn.model_selection import train_test_split\n",
    "from sklearn.preprocessing import StandardScaler\n",
    "from sklearn.metrics import mean_squared_error\n",
    "from sklearn.linear_model import LinearRegression\n",
    "\n",
    "\n",
    "%matplotlib inline\n",
    "sns.color_palette(\"cubehelix\", as_cmap=True)"
   ]
  },
  {
   "cell_type": "markdown",
   "metadata": {},
   "source": [
    "# **2. Retrieving Data**"
   ]
  },
  {
   "cell_type": "code",
   "execution_count": 3,
   "metadata": {},
   "outputs": [
    {
     "data": {
      "text/html": [
       "<div>\n",
       "<style scoped>\n",
       "    .dataframe tbody tr th:only-of-type {\n",
       "        vertical-align: middle;\n",
       "    }\n",
       "\n",
       "    .dataframe tbody tr th {\n",
       "        vertical-align: top;\n",
       "    }\n",
       "\n",
       "    .dataframe thead th {\n",
       "        text-align: right;\n",
       "    }\n",
       "</style>\n",
       "<table border=\"1\" class=\"dataframe\">\n",
       "  <thead>\n",
       "    <tr style=\"text-align: right;\">\n",
       "      <th></th>\n",
       "      <th>id</th>\n",
       "      <th>name</th>\n",
       "      <th>authors</th>\n",
       "      <th>original_price</th>\n",
       "      <th>price</th>\n",
       "      <th>categories</th>\n",
       "      <th>all_time_quantity_sold</th>\n",
       "      <th>rating_average</th>\n",
       "      <th>review_count</th>\n",
       "      <th>pages</th>\n",
       "      <th>manuafacture</th>\n",
       "    </tr>\n",
       "  </thead>\n",
       "  <tbody>\n",
       "    <tr>\n",
       "      <th>0</th>\n",
       "      <td>74021317</td>\n",
       "      <td>Cây Cam Ngọt Của Tôi</td>\n",
       "      <td>José Mauro de Vasconcelos</td>\n",
       "      <td>108000</td>\n",
       "      <td>75500</td>\n",
       "      <td>Sách tiếng Việt</td>\n",
       "      <td>72808.0</td>\n",
       "      <td>5.0</td>\n",
       "      <td>13292</td>\n",
       "      <td>244.0</td>\n",
       "      <td>Nhà Xuất Bản Hội Nhà Văn</td>\n",
       "    </tr>\n",
       "    <tr>\n",
       "      <th>1</th>\n",
       "      <td>188940817</td>\n",
       "      <td>Vị Thần Của Những Quyết Định</td>\n",
       "      <td>Universe</td>\n",
       "      <td>79000</td>\n",
       "      <td>63000</td>\n",
       "      <td>Sách chiêm tinh - horoscope - khác</td>\n",
       "      <td>2.0</td>\n",
       "      <td>0.0</td>\n",
       "      <td>0</td>\n",
       "      <td>320.0</td>\n",
       "      <td>Nhà Xuất Bản Thế Giới</td>\n",
       "    </tr>\n",
       "    <tr>\n",
       "      <th>2</th>\n",
       "      <td>189643105</td>\n",
       "      <td>Không Phải Sói Nhưng Cũng Đừng Là Cừu -Tặng kè...</td>\n",
       "      <td>Lê Bảo Ngọc</td>\n",
       "      <td>128000</td>\n",
       "      <td>115000</td>\n",
       "      <td>Sách tư duy - Kỹ năng sống</td>\n",
       "      <td>NaN</td>\n",
       "      <td>0.0</td>\n",
       "      <td>0</td>\n",
       "      <td>296.0</td>\n",
       "      <td>Nhà Xuất Bản Thế Giới</td>\n",
       "    </tr>\n",
       "    <tr>\n",
       "      <th>3</th>\n",
       "      <td>26114399</td>\n",
       "      <td>Nóng Giận Là Bản Năng , Tĩnh Lặng Là Bản Lĩnh</td>\n",
       "      <td>Tống Mặc</td>\n",
       "      <td>89000</td>\n",
       "      <td>50730</td>\n",
       "      <td>Sách tiếng Việt</td>\n",
       "      <td>74507.0</td>\n",
       "      <td>4.8</td>\n",
       "      <td>7206</td>\n",
       "      <td>264.0</td>\n",
       "      <td>Nhà Xuất Bản Thế Giới</td>\n",
       "    </tr>\n",
       "    <tr>\n",
       "      <th>4</th>\n",
       "      <td>109017985</td>\n",
       "      <td>Thiên Tài Bên Trái, Kẻ Điên Bên Phải (Tái Bản)</td>\n",
       "      <td>Cao Minh</td>\n",
       "      <td>179000</td>\n",
       "      <td>116000</td>\n",
       "      <td>Truyện ngắn - Tản văn - Tạp Văn Nước Ngoài</td>\n",
       "      <td>25929.0</td>\n",
       "      <td>4.8</td>\n",
       "      <td>5429</td>\n",
       "      <td>424.0</td>\n",
       "      <td>Nhà Xuất Bản Thế Giới</td>\n",
       "    </tr>\n",
       "  </tbody>\n",
       "</table>\n",
       "</div>"
      ],
      "text/plain": [
       "          id                                               name  \\\n",
       "0   74021317                               Cây Cam Ngọt Của Tôi   \n",
       "1  188940817                       Vị Thần Của Những Quyết Định   \n",
       "2  189643105  Không Phải Sói Nhưng Cũng Đừng Là Cừu -Tặng kè...   \n",
       "3   26114399      Nóng Giận Là Bản Năng , Tĩnh Lặng Là Bản Lĩnh   \n",
       "4  109017985     Thiên Tài Bên Trái, Kẻ Điên Bên Phải (Tái Bản)   \n",
       "\n",
       "                     authors  original_price   price  \\\n",
       "0  José Mauro de Vasconcelos          108000   75500   \n",
       "1                   Universe           79000   63000   \n",
       "2                Lê Bảo Ngọc          128000  115000   \n",
       "3                   Tống Mặc           89000   50730   \n",
       "4                   Cao Minh          179000  116000   \n",
       "\n",
       "                                   categories  all_time_quantity_sold  \\\n",
       "0                             Sách tiếng Việt                 72808.0   \n",
       "1          Sách chiêm tinh - horoscope - khác                     2.0   \n",
       "2                  Sách tư duy - Kỹ năng sống                     NaN   \n",
       "3                             Sách tiếng Việt                 74507.0   \n",
       "4  Truyện ngắn - Tản văn - Tạp Văn Nước Ngoài                 25929.0   \n",
       "\n",
       "   rating_average  review_count  pages              manuafacture  \n",
       "0             5.0         13292  244.0  Nhà Xuất Bản Hội Nhà Văn  \n",
       "1             0.0             0  320.0     Nhà Xuất Bản Thế Giới  \n",
       "2             0.0             0  296.0     Nhà Xuất Bản Thế Giới  \n",
       "3             4.8          7206  264.0     Nhà Xuất Bản Thế Giới  \n",
       "4             4.8          5429  424.0     Nhà Xuất Bản Thế Giới  "
      ]
     },
     "execution_count": 3,
     "metadata": {},
     "output_type": "execute_result"
    }
   ],
   "source": [
    "df = pd.read_csv(\"productDetailData.csv\")\n",
    "df.head()"
   ]
  },
  {
   "cell_type": "markdown",
   "metadata": {},
   "source": [
    "# **3. Cleaning Data**"
   ]
  },
  {
   "cell_type": "code",
   "execution_count": 4,
   "metadata": {},
   "outputs": [
    {
     "data": {
      "text/html": [
       "<div>\n",
       "<style scoped>\n",
       "    .dataframe tbody tr th:only-of-type {\n",
       "        vertical-align: middle;\n",
       "    }\n",
       "\n",
       "    .dataframe tbody tr th {\n",
       "        vertical-align: top;\n",
       "    }\n",
       "\n",
       "    .dataframe thead th {\n",
       "        text-align: right;\n",
       "    }\n",
       "</style>\n",
       "<table border=\"1\" class=\"dataframe\">\n",
       "  <thead>\n",
       "    <tr style=\"text-align: right;\">\n",
       "      <th></th>\n",
       "      <th>price</th>\n",
       "      <th>all_time_quantity_sold</th>\n",
       "      <th>rating_average</th>\n",
       "      <th>review_count</th>\n",
       "      <th>pages</th>\n",
       "    </tr>\n",
       "  </thead>\n",
       "  <tbody>\n",
       "    <tr>\n",
       "      <th>0</th>\n",
       "      <td>75500</td>\n",
       "      <td>72808.0</td>\n",
       "      <td>5.0</td>\n",
       "      <td>13292</td>\n",
       "      <td>244.0</td>\n",
       "    </tr>\n",
       "    <tr>\n",
       "      <th>1</th>\n",
       "      <td>63000</td>\n",
       "      <td>2.0</td>\n",
       "      <td>0.0</td>\n",
       "      <td>0</td>\n",
       "      <td>320.0</td>\n",
       "    </tr>\n",
       "    <tr>\n",
       "      <th>2</th>\n",
       "      <td>115000</td>\n",
       "      <td>NaN</td>\n",
       "      <td>0.0</td>\n",
       "      <td>0</td>\n",
       "      <td>296.0</td>\n",
       "    </tr>\n",
       "    <tr>\n",
       "      <th>3</th>\n",
       "      <td>50730</td>\n",
       "      <td>74507.0</td>\n",
       "      <td>4.8</td>\n",
       "      <td>7206</td>\n",
       "      <td>264.0</td>\n",
       "    </tr>\n",
       "    <tr>\n",
       "      <th>4</th>\n",
       "      <td>116000</td>\n",
       "      <td>25929.0</td>\n",
       "      <td>4.8</td>\n",
       "      <td>5429</td>\n",
       "      <td>424.0</td>\n",
       "    </tr>\n",
       "  </tbody>\n",
       "</table>\n",
       "</div>"
      ],
      "text/plain": [
       "    price  all_time_quantity_sold  rating_average  review_count  pages\n",
       "0   75500                 72808.0             5.0         13292  244.0\n",
       "1   63000                     2.0             0.0             0  320.0\n",
       "2  115000                     NaN             0.0             0  296.0\n",
       "3   50730                 74507.0             4.8          7206  264.0\n",
       "4  116000                 25929.0             4.8          5429  424.0"
      ]
     },
     "execution_count": 4,
     "metadata": {},
     "output_type": "execute_result"
    }
   ],
   "source": [
    "df.drop(\"id\", axis=1, inplace=True)\n",
    "df.drop(\"name\", axis=1, inplace=True)\n",
    "df.drop(\"authors\", axis=1, inplace=True)\n",
    "df.drop(\"original_price\", axis=1, inplace=True)\n",
    "df.drop(\"categories\", axis=1, inplace=True)\n",
    "df.drop(\"manuafacture\", axis=1, inplace=True)\n",
    "df.head()\n"
   ]
  },
  {
   "cell_type": "code",
   "execution_count": 5,
   "metadata": {},
   "outputs": [
    {
     "name": "stdout",
     "output_type": "stream",
     "text": [
      "Number of Null value in the Data Frame:\n",
      "price                       0\n",
      "all_time_quantity_sold     91\n",
      "rating_average              0\n",
      "review_count                0\n",
      "pages                     231\n",
      "dtype: int64\n"
     ]
    }
   ],
   "source": [
    "print(\"Number of Null value in the Data Frame:\")\n",
    "print(df.isnull().sum())"
   ]
  },
  {
   "cell_type": "code",
   "execution_count": 6,
   "metadata": {},
   "outputs": [
    {
     "name": "stdout",
     "output_type": "stream",
     "text": [
      "Number of Duplicated Row in the Data Frame:\n",
      "2\n"
     ]
    }
   ],
   "source": [
    "print(\"Number of Duplicated Row in the Data Frame:\")\n",
    "print(df.duplicated().sum())"
   ]
  },
  {
   "cell_type": "code",
   "execution_count": 7,
   "metadata": {},
   "outputs": [],
   "source": [
    "df.drop_duplicates(inplace=True)\n",
    "df.dropna(inplace=True)"
   ]
  },
  {
   "cell_type": "code",
   "execution_count": 8,
   "metadata": {},
   "outputs": [
    {
     "name": "stdout",
     "output_type": "stream",
     "text": [
      "<class 'pandas.core.frame.DataFrame'>\n",
      "Index: 1474 entries, 0 to 1789\n",
      "Data columns (total 5 columns):\n",
      " #   Column                  Non-Null Count  Dtype  \n",
      "---  ------                  --------------  -----  \n",
      " 0   price                   1474 non-null   int64  \n",
      " 1   all_time_quantity_sold  1474 non-null   float64\n",
      " 2   rating_average          1474 non-null   float64\n",
      " 3   review_count            1474 non-null   int64  \n",
      " 4   pages                   1474 non-null   float64\n",
      "dtypes: float64(3), int64(2)\n",
      "memory usage: 69.1 KB\n"
     ]
    }
   ],
   "source": [
    "df.info()"
   ]
  },
  {
   "cell_type": "code",
   "execution_count": 9,
   "metadata": {},
   "outputs": [
    {
     "data": {
      "text/html": [
       "<div>\n",
       "<style scoped>\n",
       "    .dataframe tbody tr th:only-of-type {\n",
       "        vertical-align: middle;\n",
       "    }\n",
       "\n",
       "    .dataframe tbody tr th {\n",
       "        vertical-align: top;\n",
       "    }\n",
       "\n",
       "    .dataframe thead th {\n",
       "        text-align: right;\n",
       "    }\n",
       "</style>\n",
       "<table border=\"1\" class=\"dataframe\">\n",
       "  <thead>\n",
       "    <tr style=\"text-align: right;\">\n",
       "      <th></th>\n",
       "      <th>price</th>\n",
       "      <th>all_time_quantity_sold</th>\n",
       "      <th>rating_average</th>\n",
       "      <th>review_count</th>\n",
       "      <th>pages</th>\n",
       "    </tr>\n",
       "  </thead>\n",
       "  <tbody>\n",
       "    <tr>\n",
       "      <th>0</th>\n",
       "      <td>75500</td>\n",
       "      <td>72808.0</td>\n",
       "      <td>5.0</td>\n",
       "      <td>13292</td>\n",
       "      <td>244.0</td>\n",
       "    </tr>\n",
       "    <tr>\n",
       "      <th>1</th>\n",
       "      <td>63000</td>\n",
       "      <td>2.0</td>\n",
       "      <td>0.0</td>\n",
       "      <td>0</td>\n",
       "      <td>320.0</td>\n",
       "    </tr>\n",
       "    <tr>\n",
       "      <th>3</th>\n",
       "      <td>50730</td>\n",
       "      <td>74507.0</td>\n",
       "      <td>4.8</td>\n",
       "      <td>7206</td>\n",
       "      <td>264.0</td>\n",
       "    </tr>\n",
       "    <tr>\n",
       "      <th>4</th>\n",
       "      <td>116000</td>\n",
       "      <td>25929.0</td>\n",
       "      <td>4.8</td>\n",
       "      <td>5429</td>\n",
       "      <td>424.0</td>\n",
       "    </tr>\n",
       "    <tr>\n",
       "      <th>6</th>\n",
       "      <td>55200</td>\n",
       "      <td>34067.0</td>\n",
       "      <td>5.0</td>\n",
       "      <td>5883</td>\n",
       "      <td>228.0</td>\n",
       "    </tr>\n",
       "  </tbody>\n",
       "</table>\n",
       "</div>"
      ],
      "text/plain": [
       "    price  all_time_quantity_sold  rating_average  review_count  pages\n",
       "0   75500                 72808.0             5.0         13292  244.0\n",
       "1   63000                     2.0             0.0             0  320.0\n",
       "3   50730                 74507.0             4.8          7206  264.0\n",
       "4  116000                 25929.0             4.8          5429  424.0\n",
       "6   55200                 34067.0             5.0          5883  228.0"
      ]
     },
     "execution_count": 9,
     "metadata": {},
     "output_type": "execute_result"
    }
   ],
   "source": [
    "df.head()"
   ]
  },
  {
   "cell_type": "markdown",
   "metadata": {},
   "source": [
    "### kiểm tra xem có hàng nào chứa giá trị không phù hợp không, và xóa hàng đó\n"
   ]
  },
  {
   "cell_type": "code",
   "execution_count": 10,
   "metadata": {},
   "outputs": [
    {
     "name": "stdout",
     "output_type": "stream",
     "text": [
      "Cuốn\n",
      "1047\n"
     ]
    }
   ],
   "source": [
    "df = pd.read_csv(\"df.csv\")\n",
    "df_copy = df.copy()\n",
    "for count, row in enumerate(df_copy.values):\n",
    "    for idx, value in enumerate(row):\n",
    "        if str(value).isalpha():\n",
    "            print(value)\n",
    "            print(count)\n",
    "df.drop(index=1047, inplace=True)"
   ]
  },
  {
   "cell_type": "code",
   "execution_count": 11,
   "metadata": {},
   "outputs": [],
   "source": [
    "df.pages = df.pages.astype(\"int\")"
   ]
  },
  {
   "cell_type": "markdown",
   "metadata": {},
   "source": [
    "# **4. Normalize the Data:**"
   ]
  },
  {
   "cell_type": "code",
   "execution_count": 12,
   "metadata": {},
   "outputs": [],
   "source": [
    "df = (df - df.mean())/df.std()"
   ]
  },
  {
   "cell_type": "code",
   "execution_count": 13,
   "metadata": {},
   "outputs": [
    {
     "data": {
      "text/html": [
       "<div>\n",
       "<style scoped>\n",
       "    .dataframe tbody tr th:only-of-type {\n",
       "        vertical-align: middle;\n",
       "    }\n",
       "\n",
       "    .dataframe tbody tr th {\n",
       "        vertical-align: top;\n",
       "    }\n",
       "\n",
       "    .dataframe thead th {\n",
       "        text-align: right;\n",
       "    }\n",
       "</style>\n",
       "<table border=\"1\" class=\"dataframe\">\n",
       "  <thead>\n",
       "    <tr style=\"text-align: right;\">\n",
       "      <th></th>\n",
       "      <th>Unnamed: 0</th>\n",
       "      <th>price</th>\n",
       "      <th>all_time_quantity_sold</th>\n",
       "      <th>rating_average</th>\n",
       "      <th>review_count</th>\n",
       "      <th>pages</th>\n",
       "    </tr>\n",
       "  </thead>\n",
       "  <tbody>\n",
       "    <tr>\n",
       "      <th>0</th>\n",
       "      <td>-1.660346</td>\n",
       "      <td>-0.447426</td>\n",
       "      <td>2.889887</td>\n",
       "      <td>0.309757</td>\n",
       "      <td>16.359397</td>\n",
       "      <td>-0.408070</td>\n",
       "    </tr>\n",
       "    <tr>\n",
       "      <th>1</th>\n",
       "      <td>-1.658420</td>\n",
       "      <td>-0.586169</td>\n",
       "      <td>-0.146032</td>\n",
       "      <td>-5.715343</td>\n",
       "      <td>-0.481045</td>\n",
       "      <td>0.015542</td>\n",
       "    </tr>\n",
       "    <tr>\n",
       "      <th>2</th>\n",
       "      <td>-1.654567</td>\n",
       "      <td>-0.722360</td>\n",
       "      <td>2.960734</td>\n",
       "      <td>0.068753</td>\n",
       "      <td>8.648674</td>\n",
       "      <td>-0.296594</td>\n",
       "    </tr>\n",
       "    <tr>\n",
       "      <th>3</th>\n",
       "      <td>-1.652641</td>\n",
       "      <td>0.002103</td>\n",
       "      <td>0.935091</td>\n",
       "      <td>0.068753</td>\n",
       "      <td>6.397285</td>\n",
       "      <td>0.595221</td>\n",
       "    </tr>\n",
       "    <tr>\n",
       "      <th>4</th>\n",
       "      <td>-1.648789</td>\n",
       "      <td>-0.672745</td>\n",
       "      <td>1.274436</td>\n",
       "      <td>0.309757</td>\n",
       "      <td>6.972485</td>\n",
       "      <td>-0.497252</td>\n",
       "    </tr>\n",
       "  </tbody>\n",
       "</table>\n",
       "</div>"
      ],
      "text/plain": [
       "   Unnamed: 0     price  all_time_quantity_sold  rating_average  review_count  \\\n",
       "0   -1.660346 -0.447426                2.889887        0.309757     16.359397   \n",
       "1   -1.658420 -0.586169               -0.146032       -5.715343     -0.481045   \n",
       "2   -1.654567 -0.722360                2.960734        0.068753      8.648674   \n",
       "3   -1.652641  0.002103                0.935091        0.068753      6.397285   \n",
       "4   -1.648789 -0.672745                1.274436        0.309757      6.972485   \n",
       "\n",
       "      pages  \n",
       "0 -0.408070  \n",
       "1  0.015542  \n",
       "2 -0.296594  \n",
       "3  0.595221  \n",
       "4 -0.497252  "
      ]
     },
     "execution_count": 13,
     "metadata": {},
     "output_type": "execute_result"
    }
   ],
   "source": [
    "df.head()"
   ]
  },
  {
   "cell_type": "code",
   "execution_count": 14,
   "metadata": {},
   "outputs": [],
   "source": [
    "df.drop(\"Unnamed: 0\", axis=1, inplace=True)"
   ]
  },
  {
   "cell_type": "code",
   "execution_count": 15,
   "metadata": {},
   "outputs": [
    {
     "data": {
      "text/html": [
       "<div>\n",
       "<style scoped>\n",
       "    .dataframe tbody tr th:only-of-type {\n",
       "        vertical-align: middle;\n",
       "    }\n",
       "\n",
       "    .dataframe tbody tr th {\n",
       "        vertical-align: top;\n",
       "    }\n",
       "\n",
       "    .dataframe thead th {\n",
       "        text-align: right;\n",
       "    }\n",
       "</style>\n",
       "<table border=\"1\" class=\"dataframe\">\n",
       "  <thead>\n",
       "    <tr style=\"text-align: right;\">\n",
       "      <th></th>\n",
       "      <th>price</th>\n",
       "      <th>all_time_quantity_sold</th>\n",
       "      <th>rating_average</th>\n",
       "      <th>review_count</th>\n",
       "      <th>pages</th>\n",
       "    </tr>\n",
       "  </thead>\n",
       "  <tbody>\n",
       "    <tr>\n",
       "      <th>0</th>\n",
       "      <td>-0.447426</td>\n",
       "      <td>2.889887</td>\n",
       "      <td>0.309757</td>\n",
       "      <td>16.359397</td>\n",
       "      <td>-0.408070</td>\n",
       "    </tr>\n",
       "    <tr>\n",
       "      <th>1</th>\n",
       "      <td>-0.586169</td>\n",
       "      <td>-0.146032</td>\n",
       "      <td>-5.715343</td>\n",
       "      <td>-0.481045</td>\n",
       "      <td>0.015542</td>\n",
       "    </tr>\n",
       "    <tr>\n",
       "      <th>2</th>\n",
       "      <td>-0.722360</td>\n",
       "      <td>2.960734</td>\n",
       "      <td>0.068753</td>\n",
       "      <td>8.648674</td>\n",
       "      <td>-0.296594</td>\n",
       "    </tr>\n",
       "    <tr>\n",
       "      <th>3</th>\n",
       "      <td>0.002103</td>\n",
       "      <td>0.935091</td>\n",
       "      <td>0.068753</td>\n",
       "      <td>6.397285</td>\n",
       "      <td>0.595221</td>\n",
       "    </tr>\n",
       "    <tr>\n",
       "      <th>4</th>\n",
       "      <td>-0.672745</td>\n",
       "      <td>1.274436</td>\n",
       "      <td>0.309757</td>\n",
       "      <td>6.972485</td>\n",
       "      <td>-0.497252</td>\n",
       "    </tr>\n",
       "  </tbody>\n",
       "</table>\n",
       "</div>"
      ],
      "text/plain": [
       "      price  all_time_quantity_sold  rating_average  review_count     pages\n",
       "0 -0.447426                2.889887        0.309757     16.359397 -0.408070\n",
       "1 -0.586169               -0.146032       -5.715343     -0.481045  0.015542\n",
       "2 -0.722360                2.960734        0.068753      8.648674 -0.296594\n",
       "3  0.002103                0.935091        0.068753      6.397285  0.595221\n",
       "4 -0.672745                1.274436        0.309757      6.972485 -0.497252"
      ]
     },
     "execution_count": 15,
     "metadata": {},
     "output_type": "execute_result"
    }
   ],
   "source": [
    "df.head()"
   ]
  },
  {
   "cell_type": "markdown",
   "metadata": {},
   "source": [
    "\n",
    "# **5. Explore the data**"
   ]
  },
  {
   "cell_type": "code",
   "execution_count": 16,
   "metadata": {},
   "outputs": [
    {
     "name": "stderr",
     "output_type": "stream",
     "text": [
      "c:\\Users\\LAPTOP\\AppData\\Local\\Programs\\Python\\Python310\\lib\\site-packages\\seaborn\\_oldcore.py:1498: FutureWarning: is_categorical_dtype is deprecated and will be removed in a future version. Use isinstance(dtype, CategoricalDtype) instead\n",
      "  if pd.api.types.is_categorical_dtype(vector):\n",
      "c:\\Users\\LAPTOP\\AppData\\Local\\Programs\\Python\\Python310\\lib\\site-packages\\seaborn\\_oldcore.py:1119: FutureWarning: use_inf_as_na option is deprecated and will be removed in a future version. Convert inf values to NaN before operating instead.\n",
      "  with pd.option_context('mode.use_inf_as_na', True):\n",
      "c:\\Users\\LAPTOP\\AppData\\Local\\Programs\\Python\\Python310\\lib\\site-packages\\seaborn\\_oldcore.py:1498: FutureWarning: is_categorical_dtype is deprecated and will be removed in a future version. Use isinstance(dtype, CategoricalDtype) instead\n",
      "  if pd.api.types.is_categorical_dtype(vector):\n",
      "c:\\Users\\LAPTOP\\AppData\\Local\\Programs\\Python\\Python310\\lib\\site-packages\\seaborn\\_oldcore.py:1119: FutureWarning: use_inf_as_na option is deprecated and will be removed in a future version. Convert inf values to NaN before operating instead.\n",
      "  with pd.option_context('mode.use_inf_as_na', True):\n",
      "c:\\Users\\LAPTOP\\AppData\\Local\\Programs\\Python\\Python310\\lib\\site-packages\\seaborn\\_oldcore.py:1498: FutureWarning: is_categorical_dtype is deprecated and will be removed in a future version. Use isinstance(dtype, CategoricalDtype) instead\n",
      "  if pd.api.types.is_categorical_dtype(vector):\n",
      "c:\\Users\\LAPTOP\\AppData\\Local\\Programs\\Python\\Python310\\lib\\site-packages\\seaborn\\_oldcore.py:1119: FutureWarning: use_inf_as_na option is deprecated and will be removed in a future version. Convert inf values to NaN before operating instead.\n",
      "  with pd.option_context('mode.use_inf_as_na', True):\n",
      "c:\\Users\\LAPTOP\\AppData\\Local\\Programs\\Python\\Python310\\lib\\site-packages\\seaborn\\_oldcore.py:1498: FutureWarning: is_categorical_dtype is deprecated and will be removed in a future version. Use isinstance(dtype, CategoricalDtype) instead\n",
      "  if pd.api.types.is_categorical_dtype(vector):\n",
      "c:\\Users\\LAPTOP\\AppData\\Local\\Programs\\Python\\Python310\\lib\\site-packages\\seaborn\\_oldcore.py:1119: FutureWarning: use_inf_as_na option is deprecated and will be removed in a future version. Convert inf values to NaN before operating instead.\n",
      "  with pd.option_context('mode.use_inf_as_na', True):\n",
      "c:\\Users\\LAPTOP\\AppData\\Local\\Programs\\Python\\Python310\\lib\\site-packages\\seaborn\\_oldcore.py:1498: FutureWarning: is_categorical_dtype is deprecated and will be removed in a future version. Use isinstance(dtype, CategoricalDtype) instead\n",
      "  if pd.api.types.is_categorical_dtype(vector):\n",
      "c:\\Users\\LAPTOP\\AppData\\Local\\Programs\\Python\\Python310\\lib\\site-packages\\seaborn\\_oldcore.py:1119: FutureWarning: use_inf_as_na option is deprecated and will be removed in a future version. Convert inf values to NaN before operating instead.\n",
      "  with pd.option_context('mode.use_inf_as_na', True):\n"
     ]
    },
    {
     "data": {
      "image/png": "[encoded data removed]",
      "text/plain": [
       "<Figure size 800x1200 with 5 Axes>"
      ]
     },
     "metadata": {},
     "output_type": "display_data"
    }
   ],
   "source": [
    "# Tạo một lưới 5x1 cho các biểu đồ\n",
    "fig, axes = plt.subplots(5, 1, figsize=(8, 12))\n",
    "\n",
    "# Lặp qua các cột trong DataFrame\n",
    "for i, column in enumerate(df.columns):\n",
    "    # Vẽ biểu đồ phân phối của từng cột\n",
    "    sns.histplot(df[column], ax=axes[i])\n",
    "    axes[i].set_title(column)  # Đặt tiêu đề cho từng biểu đồ\n",
    "\n",
    "plt.tight_layout()  # Đảm bảo các biểu đồ không chồng lên nhau\n",
    "\n"
   ]
  },
  {
   "cell_type": "code",
   "execution_count": 17,
   "metadata": {},
   "outputs": [
    {
     "data": {
      "text/plain": [
       "<Axes: >"
      ]
     },
     "execution_count": 17,
     "metadata": {},
     "output_type": "execute_result"
    },
    {
     "data": {
      "image/png": "[encoded data removed]",
      "text/plain": [
       "<Figure size 640x480 with 2 Axes>"
      ]
     },
     "metadata": {},
     "output_type": "display_data"
    }
   ],
   "source": [
    "correlation_matrix = df.corr()\n",
    "sns.heatmap(correlation_matrix, annot=True, cmap=\"coolwarm\")"
   ]
  },
  {
   "cell_type": "markdown",
   "metadata": {},
   "source": [
    "# **6. Models**"
   ]
  },
  {
   "cell_type": "markdown",
   "metadata": {},
   "source": [
    "### 6.1. Train Test Split"
   ]
  },
  {
   "cell_type": "code",
   "execution_count": 18,
   "metadata": {},
   "outputs": [
    {
     "name": "stdout",
     "output_type": "stream",
     "text": [
      "Shape of the Data Sets: \n",
      "X Train:(1179, 4)          X Test:(295, 4)\n",
      "Y Train:(1179,)           Y Test:(295,)\n"
     ]
    }
   ],
   "source": [
    "X = df.drop(\"all_time_quantity_sold\", axis=1)\n",
    "Y = df.all_time_quantity_sold\n",
    "\n",
    "x_train, x_test, y_train, y_test = train_test_split(X, Y, test_size=0.2, random_state=42)\n",
    "print(\"Shape of the Data Sets: \")\n",
    "print(f\"X Train:{x_train.shape}          X Test:{x_test.shape}\")\n",
    "print(f\"Y Train:{y_train.shape}           Y Test:{y_test.shape}\")"
   ]
  },
  {
   "cell_type": "markdown",
   "metadata": {},
   "source": [
    "### 6.2. Linear Regression"
   ]
  },
  {
   "cell_type": "code",
   "execution_count": 19,
   "metadata": {},
   "outputs": [],
   "source": [
    "lr = LinearRegression()\n",
    "lr.fit(x_train, y_train)\n",
    "Yhat = lr.predict(x_test)"
   ]
  },
  {
   "cell_type": "code",
   "execution_count": 20,
   "metadata": {},
   "outputs": [
    {
     "name": "stdout",
     "output_type": "stream",
     "text": [
      "Linear Regression Accuracy: 98.29%\n",
      "=> Overfitting\n"
     ]
    }
   ],
   "source": [
    "Accuracy = ((1-mean_squared_error(Yhat, y_test))*100).round(2)\n",
    "print(f\"Linear Regression Accuracy: {Accuracy}%\")\n",
    "print(\"=> Overfitting\")"
   ]
  },
  {
   "cell_type": "markdown",
   "metadata": {},
   "source": [
    "### 6.3. Support Vector Regression "
   ]
  },
  {
   "cell_type": "code",
   "execution_count": 21,
   "metadata": {},
   "outputs": [
    {
     "name": "stdout",
     "output_type": "stream",
     "text": [
      "SVR Accuracy: 98.07%\n"
     ]
    }
   ],
   "source": [
    "from sklearn.svm import SVR\n",
    "\n",
    "# Create and train the SVR model\n",
    "svr = SVR(kernel='linear')\n",
    "svr.fit(x_train, y_train)\n",
    "\n",
    "# Make predictions\n",
    "Yhat_svr = svr.predict(x_test)\n",
    "\n",
    "# Evaluate the model\n",
    "accuracy_svr = ((1 - mean_squared_error(Yhat_svr, y_test)) * 100).round(2)\n",
    "print(f\"SVR Accuracy: {accuracy_svr}%\")\n"
   ]
  },
  {
   "cell_type": "markdown",
   "metadata": {},
   "source": [
    "### 6.4. Decision Tree Regression"
   ]
  },
  {
   "cell_type": "code",
   "execution_count": 22,
   "metadata": {},
   "outputs": [
    {
     "name": "stdout",
     "output_type": "stream",
     "text": [
      "Decision Tree Regression Accuracy: 97.32%\n"
     ]
    }
   ],
   "source": [
    "from sklearn.tree import DecisionTreeRegressor\n",
    "\n",
    "# Create and train the Decision Tree Regression model\n",
    "dt_regressor = DecisionTreeRegressor(random_state=42)\n",
    "dt_regressor.fit(x_train, y_train)\n",
    "\n",
    "# Make predictions\n",
    "Yhat_dt = dt_regressor.predict(x_test)\n",
    "\n",
    "# Evaluate the model\n",
    "accuracy_dt = ((1 - mean_squared_error(Yhat_dt, y_test)) * 100).round(2)\n",
    "print(f\"Decision Tree Regression Accuracy: {accuracy_dt}%\")\n"
   ]
  },
  {
   "cell_type": "markdown",
   "metadata": {},
   "source": [
    "### 6.5. Random Forest Regression"
   ]
  },
  {
   "cell_type": "code",
   "execution_count": 23,
   "metadata": {},
   "outputs": [
    {
     "name": "stdout",
     "output_type": "stream",
     "text": [
      "Random Forest Regressor Accuracy: 98.31%\n"
     ]
    }
   ],
   "source": [
    "from sklearn.ensemble import RandomForestRegressor\n",
    "\n",
    "# Create and train the Random Forest Regressor model\n",
    "rf_regressor = RandomForestRegressor(random_state=42)\n",
    "rf_regressor.fit(x_train, y_train)\n",
    "\n",
    "# Make predictions\n",
    "Yhat_rf = rf_regressor.predict(x_test)\n",
    "\n",
    "# Evaluate the model\n",
    "accuracy_rf = ((1 - mean_squared_error(Yhat_rf, y_test)) * 100).round(2)\n",
    "print(f\"Random Forest Regressor Accuracy: {accuracy_rf}%\")\n"
   ]
  }
 ],
 "metadata": {
  "kernelspec": {
   "display_name": "Python 3",
   "language": "python",
   "name": "python3"
  },
  "language_info": {
   "codemirror_mode": {
    "name": "ipython",
    "version": 3
   },
   "file_extension": ".py",
   "mimetype": "text/x-python",
   "name": "python",
   "nbconvert_exporter": "python",
   "pygments_lexer": "ipython3",
   "version": "3.10.11"
  }
 },
 "nbformat": 4,
 "nbformat_minor": 2
}
